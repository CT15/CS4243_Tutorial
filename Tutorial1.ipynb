{
 "cells": [
  {
   "cell_type": "markdown",
   "metadata": {},
   "source": [
    "**Question 1**\n",
    "\n",
    "Calculate how much money you would have if you compounded $100 at 10% for 8 years. (Use Python Operators and print the answer to the console)."
   ]
  },
  {
   "cell_type": "code",
   "execution_count": 1,
   "metadata": {},
   "outputs": [
    {
     "name": "stdout",
     "output_type": "stream",
     "text": [
      "214.35888100000017\n"
     ]
    }
   ],
   "source": [
    "# A = P * (1 + r / n) ** (n * t)\n",
    "# A = amount\n",
    "# P = principal\n",
    "# r = interest rate (decimal) \n",
    "# n = number of times the interest is compounded per unit `t`\n",
    "# t = time\n",
    "amount = 100 * (1 + 0.1 / 1) ** (1 * 8)\n",
    "print(amount)"
   ]
  },
  {
   "cell_type": "markdown",
   "metadata": {},
   "source": [
    "**Question 2**\n",
    "\n",
    "Create a variable called “days”. Assign the value “7” to this variable. Try to execute the following code `print(“There are ” + days + “ days in a week”)`. Rewrite the code to avoid the error."
   ]
  },
  {
   "cell_type": "code",
   "execution_count": 2,
   "metadata": {},
   "outputs": [
    {
     "name": "stdout",
     "output_type": "stream",
     "text": [
      "There are 7 days in a week\n"
     ]
    }
   ],
   "source": [
    "days = 7\n",
    "print(\"There are \" + str(days) + \" days in a week\")"
   ]
  },
  {
   "cell_type": "markdown",
   "metadata": {},
   "source": [
    "**Question 3**\n",
    "\n",
    "Create a list with the following elements [“Tuesday”, “Wednesday”, “Thursday”, “Friday”, “Saturday”, “Sunday”, 42]. Add the string ‘Someday’ into this list. Add the variable ‘days’ that you previously created into this list.\n",
    "\n",
    "Create a new variable called ‘sliced_list’, which only contain the first 8 elements of the first list. Delete the integer ‘42’ from the list. Change the string ‘Someday’ to ‘Monday’."
   ]
  },
  {
   "cell_type": "code",
   "execution_count": 3,
   "metadata": {},
   "outputs": [
    {
     "data": {
      "text/plain": [
       "['Tuesday', 'Wednesday', 'Thursday', 'Friday', 'Saturday', 'Sunday', 'Monday']"
      ]
     },
     "execution_count": 3,
     "metadata": {},
     "output_type": "execute_result"
    }
   ],
   "source": [
    "my_list = [\"Tuesday\", \"Wednesday\", \"Thursday\", \"Friday\", \"Saturday\", \"Sunday\", 42]\n",
    "\n",
    "my_list.append(\"Someday\")\n",
    "my_list.append(days)\n",
    "\n",
    "sliced_list = my_list[:8]\n",
    "\n",
    "# Remove the first occurence only\n",
    "sliced_list.remove(42)\n",
    "# To remove all occurences of 42:\n",
    "# `sliced_list = [x for x in sliced_list if a != 42]`\n",
    "\n",
    "sliced_list = list(map(lambda x: \"Monday\" if x == \"Someday\" else x, sliced_list))\n",
    "\n",
    "sliced_list"
   ]
  },
  {
   "cell_type": "markdown",
   "metadata": {},
   "source": [
    "**Question 4**\n",
    "\n",
    "Create a dictionary with the following key:value pairs.\n",
    "\n",
    "'name':['john','mary','peter','jeff','bill','lisa','jose'], \n",
    "\n",
    "'age':[23,78,22,19,45,33,20], 'gender':['M','F','M','M','M','F','M'], \n",
    "\n",
    "'State':['california','dc','california','dc','california','texas','texas'], \n",
    "\n",
    "'num_children':[2,0,0,3,2,1,4]\n",
    "\n",
    "Add the following key:value pair to the dictionary.\n",
    "\n",
    "'num_pets':[5,1,0,5,2,2,3]"
   ]
  },
  {
   "cell_type": "code",
   "execution_count": 4,
   "metadata": {},
   "outputs": [
    {
     "data": {
      "text/plain": [
       "{'name': ['john', 'mary', 'peter', 'jeff', 'bill', 'lisa', 'jose'],\n",
       " 'age': [23, 78, 22, 19, 45, 33, 20],\n",
       " 'gender': ['M', 'F', 'M', 'M', 'M', 'F', 'M'],\n",
       " 'State': ['california',\n",
       "  'dc',\n",
       "  'california',\n",
       "  'dc',\n",
       "  'california',\n",
       "  'texas',\n",
       "  'texas'],\n",
       " 'num_children': [2, 0, 0, 3, 2, 1, 4],\n",
       " 'num_pets': [5, 1, 0, 5, 2, 2, 3]}"
      ]
     },
     "execution_count": 4,
     "metadata": {},
     "output_type": "execute_result"
    }
   ],
   "source": [
    "my_dict = {\"name\": [\"john\", \"mary\", \"peter\", \"jeff\", \"bill\", \"lisa\", \"jose\"],\n",
    "           \"age\": [23, 78, 22, 19, 45, 33, 20],\n",
    "           \"gender\": [\"M\", \"F\", \"M\", \"M\", \"M\", \"F\", \"M\"],\n",
    "           \"State\": [\"california\", \"dc\", \"california\", \"dc\", \"california\", \"texas\", \"texas\"],\n",
    "           \"num_children\": [2, 0, 0, 3, 2, 1, 4]\n",
    "          }\n",
    "my_dict[\"num_pets\"] = [5, 1, 0, 5, 2, 2, 3]\n",
    "my_dict"
   ]
  },
  {
   "cell_type": "markdown",
   "metadata": {},
   "source": [
    "**Question 5**\n",
    "\n",
    "Import the pandas library as pd and the matplotlib.pyplot library as plt. Convert the dictionary above to a dataframe."
   ]
  },
  {
   "cell_type": "code",
   "execution_count": 6,
   "metadata": {},
   "outputs": [
    {
     "data": {
      "text/html": [
       "<div>\n",
       "<style scoped>\n",
       "    .dataframe tbody tr th:only-of-type {\n",
       "        vertical-align: middle;\n",
       "    }\n",
       "\n",
       "    .dataframe tbody tr th {\n",
       "        vertical-align: top;\n",
       "    }\n",
       "\n",
       "    .dataframe thead th {\n",
       "        text-align: right;\n",
       "    }\n",
       "</style>\n",
       "<table border=\"1\" class=\"dataframe\">\n",
       "  <thead>\n",
       "    <tr style=\"text-align: right;\">\n",
       "      <th></th>\n",
       "      <th>name</th>\n",
       "      <th>age</th>\n",
       "      <th>gender</th>\n",
       "      <th>State</th>\n",
       "      <th>num_children</th>\n",
       "      <th>num_pets</th>\n",
       "    </tr>\n",
       "  </thead>\n",
       "  <tbody>\n",
       "    <tr>\n",
       "      <th>0</th>\n",
       "      <td>john</td>\n",
       "      <td>23</td>\n",
       "      <td>M</td>\n",
       "      <td>california</td>\n",
       "      <td>2</td>\n",
       "      <td>5</td>\n",
       "    </tr>\n",
       "    <tr>\n",
       "      <th>1</th>\n",
       "      <td>mary</td>\n",
       "      <td>78</td>\n",
       "      <td>F</td>\n",
       "      <td>dc</td>\n",
       "      <td>0</td>\n",
       "      <td>1</td>\n",
       "    </tr>\n",
       "    <tr>\n",
       "      <th>2</th>\n",
       "      <td>peter</td>\n",
       "      <td>22</td>\n",
       "      <td>M</td>\n",
       "      <td>california</td>\n",
       "      <td>0</td>\n",
       "      <td>0</td>\n",
       "    </tr>\n",
       "    <tr>\n",
       "      <th>3</th>\n",
       "      <td>jeff</td>\n",
       "      <td>19</td>\n",
       "      <td>M</td>\n",
       "      <td>dc</td>\n",
       "      <td>3</td>\n",
       "      <td>5</td>\n",
       "    </tr>\n",
       "    <tr>\n",
       "      <th>4</th>\n",
       "      <td>bill</td>\n",
       "      <td>45</td>\n",
       "      <td>M</td>\n",
       "      <td>california</td>\n",
       "      <td>2</td>\n",
       "      <td>2</td>\n",
       "    </tr>\n",
       "    <tr>\n",
       "      <th>5</th>\n",
       "      <td>lisa</td>\n",
       "      <td>33</td>\n",
       "      <td>F</td>\n",
       "      <td>texas</td>\n",
       "      <td>1</td>\n",
       "      <td>2</td>\n",
       "    </tr>\n",
       "    <tr>\n",
       "      <th>6</th>\n",
       "      <td>jose</td>\n",
       "      <td>20</td>\n",
       "      <td>M</td>\n",
       "      <td>texas</td>\n",
       "      <td>4</td>\n",
       "      <td>3</td>\n",
       "    </tr>\n",
       "  </tbody>\n",
       "</table>\n",
       "</div>"
      ],
      "text/plain": [
       "    name  age gender       State  num_children  num_pets\n",
       "0   john   23      M  california             2         5\n",
       "1   mary   78      F          dc             0         1\n",
       "2  peter   22      M  california             0         0\n",
       "3   jeff   19      M          dc             3         5\n",
       "4   bill   45      M  california             2         2\n",
       "5   lisa   33      F       texas             1         2\n",
       "6   jose   20      M       texas             4         3"
      ]
     },
     "execution_count": 6,
     "metadata": {},
     "output_type": "execute_result"
    }
   ],
   "source": [
    "import pandas as pd\n",
    "import matplotlib.pyplot as plt\n",
    "\n",
    "df = pd.DataFrame(my_dict)\n",
    "df"
   ]
  },
  {
   "cell_type": "markdown",
   "metadata": {},
   "source": [
    "**Question 6**\n",
    "\n",
    "Plot a scatterplot of 'num_children' against 'num_pets'."
   ]
  },
  {
   "cell_type": "code",
   "execution_count": 7,
   "metadata": {},
   "outputs": [
    {
     "data": {
      "image/png": "[encoded data removed]",
      "text/plain": [
       "<Figure size 432x288 with 1 Axes>"
      ]
     },
     "metadata": {
      "needs_background": "light"
     },
     "output_type": "display_data"
    }
   ],
   "source": [
    "# y against x\n",
    "plt.scatter(df['num_pets'], df['num_children'])\n",
    "plt.title(\"num_children against num_pets\")\n",
    "plt.xlabel(\"num_pets\")\n",
    "plt.ylabel(\"num_children\")\n",
    "plt.show()"
   ]
  },
  {
   "cell_type": "markdown",
   "metadata": {},
   "source": [
    "**Question 7**\n",
    "\n",
    "Plot a bar plot of ‘name’ against ‘age’."
   ]
  },
  {
   "cell_type": "code",
   "execution_count": 8,
   "metadata": {},
   "outputs": [
    {
     "data": {
      "image/png": "[encoded data removed]",
      "text/plain": [
       "<Figure size 432x288 with 1 Axes>"
      ]
     },
     "metadata": {
      "needs_background": "light"
     },
     "output_type": "display_data"
    }
   ],
   "source": [
    "# name is independent variable (x)\n",
    "# age is dependent variable (y)\n",
    "\n",
    "plt.bar(df['name'], df['age'])\n",
    "plt.title(\"name against age\")\n",
    "plt.xlabel(\"name\")\n",
    "plt.ylabel(\"age\")\n",
    "plt.show()"
   ]
  },
  {
   "cell_type": "markdown",
   "metadata": {},
   "source": [
    "**Question 8**\n",
    "\n",
    "Create a list with the numbers 1 to 10. Write a program to loop through the numbers in the list and print “odd” if the number is odd and “even” if the number is even."
   ]
  },
  {
   "cell_type": "code",
   "execution_count": 9,
   "metadata": {},
   "outputs": [
    {
     "name": "stdout",
     "output_type": "stream",
     "text": [
      "odd\n",
      "even\n",
      "odd\n",
      "even\n",
      "odd\n",
      "even\n",
      "odd\n",
      "even\n",
      "odd\n",
      "even\n"
     ]
    }
   ],
   "source": [
    "number_list = [1, 2, 3, 4, 5, 6, 7, 8, 9, 10]\n",
    "\n",
    "for number in number_list:\n",
    "    if number % 2 == 0:\n",
    "        print(\"even\")\n",
    "    else:\n",
    "        print(\"odd\")"
   ]
  }
 ],
 "metadata": {
  "kernelspec": {
   "display_name": "Python 3",
   "language": "python",
   "name": "python3"
  },
  "language_info": {
   "codemirror_mode": {
    "name": "ipython",
    "version": 3
   },
   "file_extension": ".py",
   "mimetype": "text/x-python",
   "name": "python",
   "nbconvert_exporter": "python",
   "pygments_lexer": "ipython3",
   "version": "3.7.4"
  }
 },
 "nbformat": 4,
 "nbformat_minor": 2
}
